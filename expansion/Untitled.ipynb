{
 "cells": [
  {
   "cell_type": "code",
   "execution_count": 10,
   "metadata": {},
   "outputs": [],
   "source": [
    "from ILP import MinimalRewiringILP\n",
    "import numpy as np"
   ]
  },
  {
   "cell_type": "code",
   "execution_count": 18,
   "metadata": {},
   "outputs": [],
   "source": [
    "init_wiring = np.array([[5,1,2],\n",
    "                        [1,2,2],\n",
    "                        [1,2,2]])"
   ]
  },
  {
   "cell_type": "code",
   "execution_count": 25,
   "metadata": {},
   "outputs": [
    {
     "name": "stdout",
     "output_type": "stream",
     "text": [
      "('DISCONNECT', 0, 0)\n",
      "('CONNECT', 0, 1)\n",
      "('DISCONNECT', 0, 0)\n",
      "('CONNECT', 0, 3)\n",
      "('DISCONNECT', 0, 0)\n",
      "('CONNECT', 0, 3)\n",
      "('DISCONNECT', 1, 2)\n",
      "('CONNECT', 1, 3)\n",
      "('DISCONNECT', 2, 1)\n",
      "('CONNECT', 2, 3)\n",
      "\n",
      "Current wiring:\n",
      "[[2 2 2 2]\n",
      " [1 2 1 1]\n",
      " [1 1 2 1]]\n"
     ]
    }
   ],
   "source": [
    "MR = MinimalRewiringILP(init_wiring)\n",
    "p = MR.rewire(\"spine\",5)\n",
    "for i in p:\n",
    "    print(i) \n",
    "print('\\nCurrent wiring:')\n",
    "print(MR.current_wiring)"
   ]
  },
  {
   "cell_type": "code",
   "execution_count": 20,
   "metadata": {},
   "outputs": [
    {
     "name": "stdout",
     "output_type": "stream",
     "text": [
      "[[2 2 2 2]\n",
      " [1 2 1 1]\n",
      " [1 1 2 1]]\n"
     ]
    }
   ],
   "source": [
    "\n"
   ]
  },
  {
   "cell_type": "code",
   "execution_count": 4,
   "metadata": {},
   "outputs": [],
   "source": [
    "import random, math, json, sys\n",
    "from ILP import MinimalRewiringILP\n",
    "from network import Network \n",
    "\n",
    "\n",
    "class Controller(object):\n",
    "  def __init__(self): \n",
    "\n",
    "    self.switches = {}      # Switches \n",
    "    self.num_switches = -1  # track that all switches have reported\n",
    "    self.priority = 1100    # current max priority \n",
    "    self.numH = None        # number of hosts  \n",
    "    self.verbose = 0        # reporting details \n",
    "\n",
    "    self.network = self.initial_network1()  \n",
    "    self.wiring, self.agg_key, self.core_key = self.network.core_agg_wiring() \n",
    "    self.minwiring = MinimalRewiringILP(self.wiring)\n",
    "\n",
    "  def add_switch(self, level, nports, pace=1):\n",
    "    \"\"\" Add spine or server block switch with /nports/ complete with all \n",
    "    necessary rewiring and rerouting\n",
    "\n",
    "    Args:\n",
    "          level (string): \"spine\" or \"server\"\n",
    "          nports (int): number of ports on switch\n",
    "          pace (int): number of instructions to install before rerouting\n",
    "\n",
    "    \"\"\"\n",
    "    self.network.max_sid += 1 \n",
    "    sid = self.network.max_sid \n",
    "\n",
    "    if level == 'spine':\n",
    "      stype = 'core'\n",
    "      self.core_key[len(self.core_key)] = sid\n",
    "    else: \n",
    "      stype = 'agg'\n",
    "      self.agg_key[len(self.agg_key)] = sid\n",
    "        \n",
    "    self.network.add_switch(sid, nports, stype)\n",
    "\n",
    "    instructions = self.minwiring.rewire(level, nports)\n",
    "    print(self.minwiring.current_wiring)\n",
    "    sys.stdout.flush()\n",
    "    \n",
    "    for i, instr in enumerate(instructions):\n",
    "      # add or delete link from network state and mininet topology\n",
    "      a_id = self.agg_key[instr[1]]\n",
    "      c_id = self.core_key[instr[2]]\n",
    "      if instr[0] == \"CONNECT\":\n",
    "        self.network.add_link(a_id, c_id, 1) \n",
    "        print(\"Adding 1 link between switch {} and {}\".format(a_id, c_id))\n",
    "      elif instr[0] == \"DISCONNECT\":\n",
    "        self.network.remove_link(a_id, c_id, 1) \n",
    "        print(\"Removing 1 link between switch {} and {}\".format(a_id, c_id))\n",
    "\n",
    "      if i % pace == 0:\n",
    "        # reroute every pace instructions\n",
    "#         routes = self.network.route_ecmp() \n",
    "        pass\n",
    "            \n",
    "    # Final rerouting before exit        \n",
    "    routes = self.network.route_ecmp() \n",
    "\n",
    "  def initial_network1(self):\n",
    "    \"\"\" Sample starting network onto which we'll add nodes \"\"\"\n",
    "    net = Network()\n",
    "\n",
    "    for i in range(1,9):\n",
    "      net.add_switch(i,4,'host')\n",
    "    for i in range(9,13):\n",
    "      net.add_switch(i,4,'edge')\n",
    "    for i in range(13,17):\n",
    "      net.add_switch(i,5,'agg')\n",
    "    for i in range(17,19):\n",
    "      net.add_switch(i,6,'core')\n",
    "\n",
    "    # host:edge links\n",
    "    h_e = [(1,9,1),(2,9,1),(3,10,1),(4,10,1),(5,11,1),(6,11,1),(7,12,1),(8,12,1)] \n",
    "    # edge:agg links\n",
    "    e_a = [(13,9,1),(14,9,1),(13,10,1),(14,10,1),(15,11,1),(16,11,1),(15,12,1),(16,12,1)]\n",
    "    # agg:core links\n",
    "    a_c = [(13,17,2),(14,17,1),(13,18,1),(14,18,2),(15,17,2),(16,17,1),(15,18,1),(16,18,2)] \n",
    "\n",
    "    for link in h_e + e_a + a_c:\n",
    "      net.add_link(*link)\n",
    "    return net\n",
    "\n"
   ]
  },
  {
   "cell_type": "code",
   "execution_count": 5,
   "metadata": {},
   "outputs": [],
   "source": [
    "c = Controller()"
   ]
  },
  {
   "cell_type": "code",
   "execution_count": 6,
   "metadata": {},
   "outputs": [
    {
     "name": "stdout",
     "output_type": "stream",
     "text": [
      "[[1 1 1]\n",
      " [1 1 1]\n",
      " [1 1 1]\n",
      " [1 1 1]]\n",
      "Removing 1 link between switch 13 and 17\n",
      "Adding 1 link between switch 13 and 19\n",
      "Removing 1 link between switch 14 and 18\n",
      "Adding 1 link between switch 14 and 19\n",
      "Removing 1 link between switch 15 and 17\n",
      "Adding 1 link between switch 15 and 19\n",
      "Removing 1 link between switch 16 and 18\n",
      "Adding 1 link between switch 16 and 19\n"
     ]
    }
   ],
   "source": [
    "c.add_switch('spine', 5,2)"
   ]
  },
  {
   "cell_type": "code",
   "execution_count": 7,
   "metadata": {},
   "outputs": [
    {
     "data": {
      "text/plain": [
       "defaultdict(dict,\n",
       "            {9: {1: 1, 2: 2, 3: 3, 4: 4, 5: 3, 6: 4, 7: 3, 8: 4},\n",
       "             10: {1: 3, 2: 4, 3: 1, 4: 2, 5: 3, 6: 4, 7: 3, 8: 4},\n",
       "             11: {1: 3, 2: 4, 3: 3, 4: 4, 5: 1, 6: 2, 7: 3, 8: 4},\n",
       "             12: {1: 3, 2: 4, 3: 3, 4: 4, 5: 3, 6: 4, 7: 1, 8: 2},\n",
       "             13: {1: 1, 2: 1, 3: 2, 4: 2, 5: 3, 6: 4, 7: 5, 8: 3},\n",
       "             14: {1: 1, 2: 1, 3: 2, 4: 2, 5: 3, 6: 4, 7: 5, 8: 3},\n",
       "             15: {1: 3, 2: 4, 3: 5, 4: 3, 5: 1, 6: 1, 7: 2, 8: 2},\n",
       "             16: {1: 3, 2: 4, 3: 5, 4: 3, 5: 1, 6: 1, 7: 2, 8: 2},\n",
       "             17: {1: 1, 2: 3, 3: 3, 4: 1, 5: 4, 6: 4, 7: 4, 8: 4},\n",
       "             18: {1: 2, 2: 2, 3: 1, 4: 1, 5: 5, 6: 4, 7: 4, 8: 5},\n",
       "             19: {1: 2, 2: 1, 3: 1, 4: 2, 5: 4, 6: 3, 7: 4, 8: 3}})"
      ]
     },
     "execution_count": 7,
     "metadata": {},
     "output_type": "execute_result"
    }
   ],
   "source": [
    "c.network.routes"
   ]
  },
  {
   "cell_type": "code",
   "execution_count": 10,
   "metadata": {},
   "outputs": [
    {
     "name": "stdout",
     "output_type": "stream",
     "text": [
      "Switch 1, of type 'host', with 4 ports\n",
      "Has 1 links, with 1 of them pointing up\n",
      "Linked to Switch 9 at ports [1], Switch 1 at ports []\n"
     ]
    }
   ],
   "source": [
    "print(c.network.switches[1])"
   ]
  },
  {
   "cell_type": "code",
   "execution_count": null,
   "metadata": {},
   "outputs": [],
   "source": [
    "import numpy as np"
   ]
  },
  {
   "cell_type": "code",
   "execution_count": 26,
   "metadata": {},
   "outputs": [],
   "source": [
    "a =np.array([[2, 1],\n",
    " [1, 2],\n",
    " [2, 1],\n",
    " [1, 2]])\n"
   ]
  },
  {
   "cell_type": "code",
   "execution_count": 27,
   "metadata": {},
   "outputs": [
    {
     "data": {
      "text/plain": [
       "(4, 2)"
      ]
     },
     "execution_count": 27,
     "metadata": {},
     "output_type": "execute_result"
    }
   ],
   "source": [
    "a.shape"
   ]
  },
  {
   "cell_type": "code",
   "execution_count": 28,
   "metadata": {},
   "outputs": [
    {
     "data": {
      "text/plain": [
       "array([[2, 1],\n",
       "       [1, 2],\n",
       "       [2, 1],\n",
       "       [1, 2]])"
      ]
     },
     "execution_count": 28,
     "metadata": {},
     "output_type": "execute_result"
    }
   ],
   "source": [
    "a"
   ]
  },
  {
   "cell_type": "code",
   "execution_count": 8,
   "metadata": {},
   "outputs": [],
   "source": [
    "s = [4,5,6,7,8]"
   ]
  },
  {
   "cell_type": "code",
   "execution_count": 9,
   "metadata": {},
   "outputs": [
    {
     "data": {
      "text/plain": [
       "[6, 7, 8]"
      ]
     },
     "execution_count": 9,
     "metadata": {},
     "output_type": "execute_result"
    }
   ],
   "source": [
    "s[-3:]"
   ]
  },
  {
   "cell_type": "code",
   "execution_count": 10,
   "metadata": {},
   "outputs": [
    {
     "data": {
      "text/plain": [
       "[4, 5]"
      ]
     },
     "execution_count": 10,
     "metadata": {},
     "output_type": "execute_result"
    }
   ],
   "source": [
    "s[:-3]"
   ]
  },
  {
   "cell_type": "code",
   "execution_count": null,
   "metadata": {},
   "outputs": [],
   "source": []
  }
 ],
 "metadata": {
  "kernelspec": {
   "display_name": "Python 3",
   "language": "python",
   "name": "python3"
  },
  "language_info": {
   "codemirror_mode": {
    "name": "ipython",
    "version": 3
   },
   "file_extension": ".py",
   "mimetype": "text/x-python",
   "name": "python",
   "nbconvert_exporter": "python",
   "pygments_lexer": "ipython3",
   "version": "3.6.4"
  }
 },
 "nbformat": 4,
 "nbformat_minor": 2
}
